{
 "cells": [
  {
   "cell_type": "markdown",
   "metadata": {},
   "source": [
    "### Crime Classification"
   ]
  },
  {
   "cell_type": "code",
   "execution_count": 1,
   "metadata": {
    "collapsed": false
   },
   "outputs": [
    {
     "name": "stderr",
     "output_type": "stream",
     "text": [
      "A newer version of GraphLab Create (v1.9) is available! Your current version is v1.8.5.\n",
      "\n",
      "You can use pip to upgrade the graphlab-create package. For more information see https://dato.com/products/create/upgrade.\n"
     ]
    }
   ],
   "source": [
    "#import lib\n",
    "\n",
    "import warnings\n",
    "warnings.filterwarnings('ignore')\n",
    "\n",
    "import numpy as np\n",
    "import pandas as pd\n",
    "import graphlab as gpl"
   ]
  },
  {
   "cell_type": "code",
   "execution_count": 2,
   "metadata": {
    "collapsed": true
   },
   "outputs": [],
   "source": [
    "#Load Data, and parse the first column into datetime\n",
    "\n",
    "train = pd.read_csv('train.csv', parse_dates = ['Dates'])\n",
    "test = pd.read_csv('test.csv', parse_dates = ['Dates'])"
   ]
  },
  {
   "cell_type": "code",
   "execution_count": 3,
   "metadata": {
    "collapsed": false
   },
   "outputs": [],
   "source": [
    "# train data\n",
    "\n",
    "#days = pd.get_dummies(train.DayOfWeek)\n",
    "#district = pd.get_dummies(train.PdDistrict)\n",
    "#hour = train.Dates.dt.hour\n",
    "#hour = pd.get_dummies(hour)\n",
    "#year = train.Dates.dt.year\n",
    "#year = pd.get_dummies(year)\n",
    "\n",
    "#month = train.Dates.dt.month\n",
    "#month = pd.get_dummies(month)\n",
    "#month.columns = [24,25,26,27,28,29,30,31,32,33,34,35]\n",
    "\n",
    "#date = train.Dates.dt.day\n",
    "#date.unique()\n",
    "#date = pd.get_dummies(date)\n",
    "#date.columns = list(range(41,72))\n",
    "\n",
    "#intersection\n",
    "\n",
    "inter = train.Address.apply(lambda x: 1 if '/' in x else 0)\n",
    "\n",
    "# crime at night or not\n",
    "\n",
    "crime_time = train.Dates.dt.hour.apply(lambda x: 1 if (x>=22) or (x<6) else 0)\n",
    "\n",
    "# weekday/weekend crime\n",
    "\n",
    "crime_day = train.Dates.dt.dayofweek.apply(lambda x: 1 if (x==5) or (x==6) else 0)"
   ]
  },
  {
   "cell_type": "code",
   "execution_count": 4,
   "metadata": {
    "collapsed": false
   },
   "outputs": [],
   "source": [
    "#train_data = pd.concat([hour, days, month, district, loc], axis=1)\n",
    "\n",
    "train_data = pd.concat([train.PdDistrict, inter, crime_time, crime_day, train.X, train.Y], axis=1)\n",
    "train_data['crime'] = train.Category"
   ]
  },
  {
   "cell_type": "code",
   "execution_count": 5,
   "metadata": {
    "collapsed": true
   },
   "outputs": [],
   "source": [
    "train_data.columns = ['PdDistrict', 'inter', 'crime_time', 'crime_day', 'X', 'Y', 'crime']"
   ]
  },
  {
   "cell_type": "code",
   "execution_count": 6,
   "metadata": {
    "collapsed": true
   },
   "outputs": [],
   "source": [
    "#for test data\n",
    "'''\n",
    "days = pd.get_dummies(test.DayOfWeek)\n",
    "district = pd.get_dummies(test.PdDistrict)\n",
    "hour = test.Dates.dt.hour\n",
    "hour = pd.get_dummies(hour)  \n",
    "year = test.Dates.dt.year\n",
    "year = pd.get_dummies(year)\n",
    "month = test.Dates.dt.month\n",
    "month = pd.get_dummies(month)\n",
    "month.columns = [24,25,26,27,28,29,30,31,32,33,34,35]\n",
    "\n",
    "date = test.Dates.dt.day\n",
    "date = pd.get_dummies(date)\n",
    "date.columns = list(range(41,72))\n",
    "'''\n",
    "#intersection\n",
    "\n",
    "inter = test.Address.apply(lambda x: 1 if '/' in x else 0)\n",
    "\n",
    "# crime at night or not\n",
    "\n",
    "crime_time = test.Dates.dt.hour.apply(lambda x: 1 if (x>22) and (x<6) else 0)\n",
    "\n",
    "# weekday/weekend crime\n",
    "\n",
    "crime_day = test.Dates.dt.dayofweek.apply(lambda x: 1 if (x==5) or (x==6) else 0)"
   ]
  },
  {
   "cell_type": "code",
   "execution_count": 7,
   "metadata": {
    "collapsed": true
   },
   "outputs": [],
   "source": [
    "test_data = pd.concat([test.PdDistrict, inter, crime_time, crime_day, test.X, test.Y], axis=1)\n",
    "\n",
    "test_data.columns = ['PdDistrict', 'inter', 'crime_time', 'crime_day', 'X', 'Y']"
   ]
  },
  {
   "cell_type": "code",
   "execution_count": 8,
   "metadata": {
    "collapsed": true
   },
   "outputs": [],
   "source": [
    "features = list(train_data.columns)[:-1]\n"
   ]
  },
  {
   "cell_type": "markdown",
   "metadata": {},
   "source": [
    "## GRAPHLAB"
   ]
  },
  {
   "cell_type": "code",
   "execution_count": 9,
   "metadata": {
    "collapsed": false
   },
   "outputs": [
    {
     "name": "stderr",
     "output_type": "stream",
     "text": [
      "2016-05-09 15:21:55,047 [INFO] graphlab.cython.cy_server, 176: GraphLab Create v1.8.5 started. Logging: /tmp/graphlab_server_1462787513.log\n"
     ]
    },
    {
     "name": "stdout",
     "output_type": "stream",
     "text": [
      "This non-commercial license of GraphLab Create is assigned to hpanwar25@yahoo.com and will expire on December 16, 2016. For commercial licensing options, visit https://dato.com/buy/.\n"
     ]
    }
   ],
   "source": [
    "train_dato = gpl.SFrame(train_data)\n",
    "test_dato = gpl.SFrame(test_data)"
   ]
  },
  {
   "cell_type": "code",
   "execution_count": null,
   "metadata": {
    "collapsed": false
   },
   "outputs": [],
   "source": [
    "train_dato.show()"
   ]
  },
  {
   "cell_type": "code",
   "execution_count": 10,
   "metadata": {
    "collapsed": false
   },
   "outputs": [],
   "source": [
    "sf_train, sf_test = train_dato.random_split(.6, seed=5)"
   ]
  },
  {
   "cell_type": "code",
   "execution_count": 11,
   "metadata": {
    "collapsed": false
   },
   "outputs": [
    {
     "data": {
      "text/html": [
       "<pre>Random forest classifier:</pre>"
      ],
      "text/plain": [
       "Random forest classifier:"
      ]
     },
     "metadata": {},
     "output_type": "display_data"
    },
    {
     "data": {
      "text/html": [
       "<pre>--------------------------------------------------------</pre>"
      ],
      "text/plain": [
       "--------------------------------------------------------"
      ]
     },
     "metadata": {},
     "output_type": "display_data"
    },
    {
     "data": {
      "text/html": [
       "<pre>Number of examples          : 499690</pre>"
      ],
      "text/plain": [
       "Number of examples          : 499690"
      ]
     },
     "metadata": {},
     "output_type": "display_data"
    },
    {
     "data": {
      "text/html": [
       "<pre>Number of classes           : 39</pre>"
      ],
      "text/plain": [
       "Number of classes           : 39"
      ]
     },
     "metadata": {},
     "output_type": "display_data"
    },
    {
     "data": {
      "text/html": [
       "<pre>Number of feature columns   : 6</pre>"
      ],
      "text/plain": [
       "Number of feature columns   : 6"
      ]
     },
     "metadata": {},
     "output_type": "display_data"
    },
    {
     "data": {
      "text/html": [
       "<pre>Number of unpacked features : 6</pre>"
      ],
      "text/plain": [
       "Number of unpacked features : 6"
      ]
     },
     "metadata": {},
     "output_type": "display_data"
    },
    {
     "data": {
      "text/html": [
       "<pre>+-----------+--------------+-------------------+-------------------+---------------------+---------------------+</pre>"
      ],
      "text/plain": [
       "+-----------+--------------+-------------------+-------------------+---------------------+---------------------+"
      ]
     },
     "metadata": {},
     "output_type": "display_data"
    },
    {
     "data": {
      "text/html": [
       "<pre>| Iteration | Elapsed Time | Training-accuracy | Training-log_loss | Validation-accuracy | Validation-log_loss |</pre>"
      ],
      "text/plain": [
       "| Iteration | Elapsed Time | Training-accuracy | Training-log_loss | Validation-accuracy | Validation-log_loss |"
      ]
     },
     "metadata": {},
     "output_type": "display_data"
    },
    {
     "data": {
      "text/html": [
       "<pre>+-----------+--------------+-------------------+-------------------+---------------------+---------------------+</pre>"
      ],
      "text/plain": [
       "+-----------+--------------+-------------------+-------------------+---------------------+---------------------+"
      ]
     },
     "metadata": {},
     "output_type": "display_data"
    },
    {
     "data": {
      "text/html": [
       "<pre>| 1         | 16.911635    | 0.244926          | 3.031388          | 0.240520            | 3.052523            |</pre>"
      ],
      "text/plain": [
       "| 1         | 16.911635    | 0.244926          | 3.031388          | 0.240520            | 3.052523            |"
      ]
     },
     "metadata": {},
     "output_type": "display_data"
    },
    {
     "data": {
      "text/html": [
       "<pre>| 2         | 33.621366    | 0.255801          | 3.007866          | 0.251995            | 3.030417            |</pre>"
      ],
      "text/plain": [
       "| 2         | 33.621366    | 0.255801          | 3.007866          | 0.251995            | 3.030417            |"
      ]
     },
     "metadata": {},
     "output_type": "display_data"
    },
    {
     "data": {
      "text/html": [
       "<pre>| 3         | 50.031583    | 0.256335          | 3.008442          | 0.254237            | 3.030557            |</pre>"
      ],
      "text/plain": [
       "| 3         | 50.031583    | 0.256335          | 3.008442          | 0.254237            | 3.030557            |"
      ]
     },
     "metadata": {},
     "output_type": "display_data"
    },
    {
     "data": {
      "text/html": [
       "<pre>| 4         | 66.112959    | 0.258268          | 3.019477          | 0.256060            | 3.040037            |</pre>"
      ],
      "text/plain": [
       "| 4         | 66.112959    | 0.258268          | 3.019477          | 0.256060            | 3.040037            |"
      ]
     },
     "metadata": {},
     "output_type": "display_data"
    },
    {
     "data": {
      "text/html": [
       "<pre>| 5         | 82.668117    | 0.257964          | 3.023691          | 0.255756            | 3.045501            |</pre>"
      ],
      "text/plain": [
       "| 5         | 82.668117    | 0.257964          | 3.023691          | 0.255756            | 3.045501            |"
      ]
     },
     "metadata": {},
     "output_type": "display_data"
    },
    {
     "data": {
      "text/html": [
       "<pre>| 6         | 98.816028    | 0.256675          | 3.014596          | 0.254541            | 3.036468            |</pre>"
      ],
      "text/plain": [
       "| 6         | 98.816028    | 0.256675          | 3.014596          | 0.254541            | 3.036468            |"
      ]
     },
     "metadata": {},
     "output_type": "display_data"
    },
    {
     "data": {
      "text/html": [
       "<pre>| 7         | 115.081776   | 0.256465          | 3.017754          | 0.253895            | 3.040087            |</pre>"
      ],
      "text/plain": [
       "| 7         | 115.081776   | 0.256465          | 3.017754          | 0.253895            | 3.040087            |"
      ]
     },
     "metadata": {},
     "output_type": "display_data"
    },
    {
     "data": {
      "text/html": [
       "<pre>| 8         | 131.261927   | 0.254960          | 3.005089          | 0.251805            | 3.027153            |</pre>"
      ],
      "text/plain": [
       "| 8         | 131.261927   | 0.254960          | 3.005089          | 0.251805            | 3.027153            |"
      ]
     },
     "metadata": {},
     "output_type": "display_data"
    },
    {
     "data": {
      "text/html": [
       "<pre>| 9         | 148.072039   | 0.255418          | 2.999047          | 0.252185            | 3.020899            |</pre>"
      ],
      "text/plain": [
       "| 9         | 148.072039   | 0.255418          | 2.999047          | 0.252185            | 3.020899            |"
      ]
     },
     "metadata": {},
     "output_type": "display_data"
    },
    {
     "data": {
      "text/html": [
       "<pre>| 10        | 164.899788   | 0.256231          | 3.003621          | 0.253743            | 3.025594            |</pre>"
      ],
      "text/plain": [
       "| 10        | 164.899788   | 0.256231          | 3.003621          | 0.253743            | 3.025594            |"
      ]
     },
     "metadata": {},
     "output_type": "display_data"
    },
    {
     "data": {
      "text/html": [
       "<pre>+-----------+--------------+-------------------+-------------------+---------------------+---------------------+</pre>"
      ],
      "text/plain": [
       "+-----------+--------------+-------------------+-------------------+---------------------+---------------------+"
      ]
     },
     "metadata": {},
     "output_type": "display_data"
    },
    {
     "name": "stdout",
     "output_type": "stream",
     "text": [
      "PROGRESS: Creating a validation set from 5 percent of training data. This may take a while.\n",
      "          You can set ``validation_set=None`` to disable validation tracking.\n",
      "\n"
     ]
    }
   ],
   "source": [
    "model = gpl.random_forest_classifier.create(sf_train, target='crime')"
   ]
  },
  {
   "cell_type": "code",
   "execution_count": 12,
   "metadata": {
    "collapsed": true
   },
   "outputs": [],
   "source": [
    "pred = model.classify(sf_test)"
   ]
  },
  {
   "cell_type": "code",
   "execution_count": 13,
   "metadata": {
    "collapsed": false
   },
   "outputs": [
    {
     "data": {
      "text/plain": [
       "{'accuracy': 0.2544845628776194,\n",
       " 'auc': 0.6188126179093082,\n",
       " 'confusion_matrix': Columns:\n",
       " \ttarget_label\tstr\n",
       " \tpredicted_label\tstr\n",
       " \tcount\tint\n",
       " \n",
       " Rows: 291\n",
       " \n",
       " Data:\n",
       " +--------------------+-----------------+-------+\n",
       " |    target_label    | predicted_label | count |\n",
       " +--------------------+-----------------+-------+\n",
       " |  FAMILY OFFENSES   |  DRUG/NARCOTIC  |   14  |\n",
       " |  STOLEN PROPERTY   |  OTHER OFFENSES |  334  |\n",
       " |      TRESPASS      |  VEHICLE THEFT  |   21  |\n",
       " |      ASSAULT       |  DRUG/NARCOTIC  |  2595 |\n",
       " |     KIDNAPPING     |     ASSAULT     |  115  |\n",
       " |       FRAUD        |  MISSING PERSON |   31  |\n",
       " |  STOLEN PROPERTY   |   NON-CRIMINAL  |   3   |\n",
       " | DISORDERLY CONDUCT |     ASSAULT     |   59  |\n",
       " |       FRAUD        |     ASSAULT     |  250  |\n",
       " |    DRUNKENNESS     |  OTHER OFFENSES |  381  |\n",
       " +--------------------+-----------------+-------+\n",
       " [291 rows x 3 columns]\n",
       " Note: Only the head of the SFrame is printed.\n",
       " You can use print_rows(num_rows=m, num_columns=n) to print more rows and columns.,\n",
       " 'f1_score': 0.0570227824823041,\n",
       " 'log_loss': 3.01722931506028,\n",
       " 'precision': 0.3412836193417708,\n",
       " 'recall': 0.06560870390387066,\n",
       " 'roc_curve': Columns:\n",
       " \tthreshold\tfloat\n",
       " \tfpr\tfloat\n",
       " \ttpr\tfloat\n",
       " \tp\tint\n",
       " \tn\tint\n",
       " \tclass\tint\n",
       " \n",
       " Rows: 3900039\n",
       " \n",
       " Data:\n",
       " +-----------+----------------+-----+-----+--------+-------+\n",
       " | threshold |      fpr       | tpr |  p  |   n    | class |\n",
       " +-----------+----------------+-----+-----+--------+-------+\n",
       " |    0.0    |      1.0       | 1.0 | 614 | 351427 |   0   |\n",
       " |   1e-05   | 0.99782885208  | 1.0 | 614 | 351427 |   0   |\n",
       " |   2e-05   | 0.997826006539 | 1.0 | 614 | 351427 |   0   |\n",
       " |   3e-05   | 0.997826006539 | 1.0 | 614 | 351427 |   0   |\n",
       " |   4e-05   | 0.997043482715 | 1.0 | 614 | 351427 |   0   |\n",
       " |   5e-05   | 0.995788599055 | 1.0 | 614 | 351427 |   0   |\n",
       " |   6e-05   | 0.995552419137 | 1.0 | 614 | 351427 |   0   |\n",
       " |   7e-05   | 0.995541036972 | 1.0 | 614 | 351427 |   0   |\n",
       " |   8e-05   | 0.995538191431 | 1.0 | 614 | 351427 |   0   |\n",
       " |   9e-05   | 0.993560540311 | 1.0 | 614 | 351427 |   0   |\n",
       " +-----------+----------------+-----+-----+--------+-------+\n",
       " [3900039 rows x 6 columns]\n",
       " Note: Only the head of the SFrame is printed.\n",
       " You can use print_rows(num_rows=m, num_columns=n) to print more rows and columns.}"
      ]
     },
     "execution_count": 13,
     "metadata": {},
     "output_type": "execute_result"
    }
   ],
   "source": [
    "model.evaluate(sf_test)"
   ]
  },
  {
   "cell_type": "code",
   "execution_count": null,
   "metadata": {
    "collapsed": true
   },
   "outputs": [],
   "source": []
  }
 ],
 "metadata": {
  "kernelspec": {
   "display_name": "Python 2",
   "language": "python",
   "name": "python2"
  },
  "language_info": {
   "codemirror_mode": {
    "name": "ipython",
    "version": 2
   },
   "file_extension": ".py",
   "mimetype": "text/x-python",
   "name": "python",
   "nbconvert_exporter": "python",
   "pygments_lexer": "ipython2",
   "version": "2.7.11"
  }
 },
 "nbformat": 4,
 "nbformat_minor": 0
}
