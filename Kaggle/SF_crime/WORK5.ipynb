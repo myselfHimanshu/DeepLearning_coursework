{
 "cells": [
  {
   "cell_type": "markdown",
   "metadata": {},
   "source": [
    "## San Francisco Crime Classification"
   ]
  },
  {
   "cell_type": "code",
   "execution_count": 1,
   "metadata": {
    "collapsed": false
   },
   "outputs": [],
   "source": [
    "#import lib\n",
    "import warnings\n",
    "warnings.filterwarnings('ignore')\n",
    "import numpy as np\n",
    "import pandas as pd\n",
    "import matplotlib.pyplot as plt\n",
    "%matplotlib inline\n",
    "import seaborn as sns"
   ]
  },
  {
   "cell_type": "code",
   "execution_count": 2,
   "metadata": {
    "collapsed": true
   },
   "outputs": [],
   "source": [
    "from sklearn.cross_validation import train_test_split\n",
    "from sklearn import preprocessing\n",
    "from sklearn.metrics import log_loss"
   ]
  },
  {
   "cell_type": "code",
   "execution_count": 3,
   "metadata": {
    "collapsed": true
   },
   "outputs": [],
   "source": [
    "#Load Data with pandas, and parse the first column into datetime\n",
    "\n",
    "train = pd.read_csv('train.csv', parse_dates = ['Dates'])\n",
    "test = pd.read_csv('test.csv', parse_dates = ['Dates'])"
   ]
  },
  {
   "cell_type": "markdown",
   "metadata": {},
   "source": [
    "##### Preprocessing"
   ]
  },
  {
   "cell_type": "code",
   "execution_count": 4,
   "metadata": {
    "collapsed": false
   },
   "outputs": [],
   "source": [
    "#train.head()"
   ]
  },
  {
   "cell_type": "code",
   "execution_count": 5,
   "metadata": {
    "collapsed": true
   },
   "outputs": [],
   "source": [
    "#convert Category(label) to number\n",
    "label_cat = preprocessing.LabelEncoder()\n",
    "crime = label_cat.fit_transform(train.Category)"
   ]
  },
  {
   "cell_type": "code",
   "execution_count": 6,
   "metadata": {
    "collapsed": true
   },
   "outputs": [],
   "source": [
    "days = pd.get_dummies(train.DayOfWeek)\n",
    "district = pd.get_dummies(train.PdDistrict)\n",
    "hour = train.Dates.dt.hour\n",
    "hour = pd.get_dummies(hour)\n",
    "year = train.Dates.dt.year\n",
    "year = pd.get_dummies(year)"
   ]
  },
  {
   "cell_type": "code",
   "execution_count": 7,
   "metadata": {
    "collapsed": false
   },
   "outputs": [],
   "source": [
    "month = train.Dates.dt.month\n",
    "month = pd.get_dummies(month)\n",
    "month.columns = [24,25,26,27,28,29,30,31,32,33,34,35]"
   ]
  },
  {
   "cell_type": "code",
   "execution_count": 8,
   "metadata": {
    "collapsed": false
   },
   "outputs": [],
   "source": [
    "date = train.Dates.dt.day\n",
    "#date.unique()\n",
    "date = pd.get_dummies(date)\n",
    "date.columns = list(range(41,72))"
   ]
  },
  {
   "cell_type": "code",
   "execution_count": 9,
   "metadata": {
    "collapsed": false
   },
   "outputs": [],
   "source": [
    "#loc_X = np.array(train.X)\n",
    "#loc_Y = np.array(train.Y)"
   ]
  },
  {
   "cell_type": "code",
   "execution_count": 10,
   "metadata": {
    "collapsed": false
   },
   "outputs": [],
   "source": [
    "#loc_mul = np.multiply(loc_X,loc_Y)\n",
    "#loc_sum = np.add(loc_X,loc_Y)\n",
    "#loc = pd.DataFrame(np.divide(loc_mul,loc_sum))\n",
    "#loc.columns = ['loc']"
   ]
  },
  {
   "cell_type": "code",
   "execution_count": 11,
   "metadata": {
    "collapsed": true
   },
   "outputs": [],
   "source": [
    "#intersection\n",
    "\n",
    "inter = train.Address.apply(lambda x: 1 if '/' in x else 0)\n",
    "\n",
    "# crime at night or not\n",
    "\n",
    "crime_time = train.Dates.dt.hour.apply(lambda x: 1 if (x>22) and (x<6) else 0)\n",
    "\n",
    "# weekday/weekend crime\n",
    "\n",
    "crime_day = train.Dates.dt.dayofweek.apply(lambda x: 1 if (x==5) or (x==6) else 0)"
   ]
  },
  {
   "cell_type": "code",
   "execution_count": 22,
   "metadata": {
    "collapsed": false
   },
   "outputs": [],
   "source": [
    "#train_data = pd.concat([hour, days, month, district, loc], axis=1)\n",
    "train_data = pd.concat([hour, date, days, month, year, district, inter, train.X, train.Y, crime_time, crime_day], axis=1)\n",
    "train_data['crime'] = crime"
   ]
  },
  {
   "cell_type": "code",
   "execution_count": 24,
   "metadata": {
    "collapsed": false
   },
   "outputs": [],
   "source": [
    "train_data.columns = list(train_data.columns)[:-3]+['crime_time','crime_day','crime']"
   ]
  },
  {
   "cell_type": "code",
   "execution_count": 25,
   "metadata": {
    "collapsed": false
   },
   "outputs": [
    {
     "data": {
      "text/plain": [
       "Index([            0,             1,             2,             3,\n",
       "                   4,             5,             6,             7,\n",
       "                   8,             9,\n",
       "       ...\n",
       "         u'RICHMOND',   u'SOUTHERN',    u'TARAVAL', u'TENDERLOIN',\n",
       "          u'Address',          u'X',          u'Y', u'crime_time',\n",
       "        u'crime_day',      u'crime'],\n",
       "      dtype='object', length=103)"
      ]
     },
     "execution_count": 25,
     "metadata": {},
     "output_type": "execute_result"
    }
   ],
   "source": [
    "train_data.columns"
   ]
  },
  {
   "cell_type": "code",
   "execution_count": 26,
   "metadata": {
    "collapsed": true
   },
   "outputs": [],
   "source": [
    "#for test data\n",
    "days = pd.get_dummies(test.DayOfWeek)\n",
    "district = pd.get_dummies(test.PdDistrict)\n",
    "hour = test.Dates.dt.hour\n",
    "hour = pd.get_dummies(hour)  \n",
    "year = test.Dates.dt.year\n",
    "year = pd.get_dummies(year)\n",
    "month = test.Dates.dt.month\n",
    "month = pd.get_dummies(month)\n",
    "month.columns = [24,25,26,27,28,29,30,31,32,33,34,35]"
   ]
  },
  {
   "cell_type": "code",
   "execution_count": 27,
   "metadata": {
    "collapsed": true
   },
   "outputs": [],
   "source": [
    "date = test.Dates.dt.day\n",
    "date = pd.get_dummies(date)\n",
    "date.columns = list(range(41,72))\n",
    "\n",
    "#intersection\n",
    "\n",
    "inter = test.Address.apply(lambda x: 1 if '/' in x else 0)\n",
    "\n",
    "# crime at night or not\n",
    "\n",
    "crime_time = test.Dates.dt.hour.apply(lambda x: 1 if (x>22) and (x<6) else 0)\n",
    "\n",
    "# weekday/weekend crime\n",
    "\n",
    "crime_day = test.Dates.dt.dayofweek.apply(lambda x: 1 if (x==5) or (x==6) else 0)"
   ]
  },
  {
   "cell_type": "code",
   "execution_count": 28,
   "metadata": {
    "collapsed": true
   },
   "outputs": [],
   "source": [
    "'''\n",
    "loc_X = np.array(test.X)\n",
    "loc_Y = np.array(test.Y)\n",
    "loc_mul = np.multiply(loc_X,loc_Y)\n",
    "loc_sum = np.add(loc_X,loc_Y)\n",
    "loc = pd.DataFrame(np.divide(loc_mul,loc_sum))\n",
    "loc.columns = ['loc']\n",
    "\n",
    "test_data = pd.concat([hour, days, month, district, loc], axis=1)\n",
    "\n",
    "test_data = pd.concat([hour, date, days, month, year, district, test.X, test.Y], axis=1)\n",
    "'''\n",
    "\n",
    "test_data = pd.concat([hour, date, days, month, year, district, inter, test.X, test.Y, crime_time, crime_day], axis=1)\n",
    "\n",
    "test_data.columns = list(train_data.columns)[:-3]+['crime_time','crime_day']"
   ]
  },
  {
   "cell_type": "code",
   "execution_count": 29,
   "metadata": {
    "collapsed": true
   },
   "outputs": [],
   "source": [
    "features = list(train_data.columns)[:-1]\n"
   ]
  },
  {
   "cell_type": "code",
   "execution_count": 32,
   "metadata": {
    "collapsed": true
   },
   "outputs": [],
   "source": [
    "\n",
    "training, validation = train_test_split(train_data, train_size=.60)"
   ]
  },
  {
   "cell_type": "code",
   "execution_count": 33,
   "metadata": {
    "collapsed": false
   },
   "outputs": [
    {
     "data": {
      "text/plain": [
       "2.5218167199386596"
      ]
     },
     "execution_count": 33,
     "metadata": {},
     "output_type": "execute_result"
    }
   ],
   "source": [
    "from sklearn.naive_bayes import BernoulliNB\n",
    "\n",
    "model = BernoulliNB()\n",
    "model.fit(training[features], training['crime'])\n",
    "predicted = np.array(model.predict_proba(validation[features]))\n",
    "log_loss(validation['crime'], predicted) "
   ]
  },
  {
   "cell_type": "code",
   "execution_count": 34,
   "metadata": {
    "collapsed": true
   },
   "outputs": [],
   "source": [
    "from sklearn.ensemble import RandomForestClassifier"
   ]
  },
  {
   "cell_type": "code",
   "execution_count": 35,
   "metadata": {
    "collapsed": false
   },
   "outputs": [
    {
     "name": "stdout",
     "output_type": "stream",
     "text": [
      "accuracy score : 0.293482717385\n",
      "log loss :  2.37828938819\n"
     ]
    }
   ],
   "source": [
    "model = RandomForestClassifier(max_depth=18,min_samples_split=3,n_estimators=22,max_features=34)\n",
    "model.fit(training[features], training['crime'])\n",
    "\n",
    "from sklearn.metrics import accuracy_score\n",
    "predict = model.predict(validation[features])\n",
    "print \"accuracy score :\",accuracy_score(predict,validation['crime'])\n",
    "\n",
    "predicted = np.array(model.predict_proba(validation[features]))\n",
    "print \"log loss : \",log_loss(validation['crime'], predicted) "
   ]
  },
  {
   "cell_type": "code",
   "execution_count": 36,
   "metadata": {
    "collapsed": false,
    "scrolled": false
   },
   "outputs": [
    {
     "data": {
      "text/plain": [
       "RandomForestClassifier(bootstrap=True, class_weight=None, criterion='gini',\n",
       "            max_depth=18, max_features=34, max_leaf_nodes=None,\n",
       "            min_samples_leaf=1, min_samples_split=3,\n",
       "            min_weight_fraction_leaf=0.0, n_estimators=22, n_jobs=1,\n",
       "            oob_score=False, random_state=None, verbose=0,\n",
       "            warm_start=False)"
      ]
     },
     "execution_count": 36,
     "metadata": {},
     "output_type": "execute_result"
    }
   ],
   "source": [
    "model = RandomForestClassifier(max_depth=18,min_samples_split=3,n_estimators=22,max_features=34)\n",
    "model.fit(train_data[features], train_data['crime'])"
   ]
  },
  {
   "cell_type": "code",
   "execution_count": null,
   "metadata": {
    "collapsed": false
   },
   "outputs": [],
   "source": [
    "predicted = model.predict_proba(test_data[features])"
   ]
  },
  {
   "cell_type": "code",
   "execution_count": null,
   "metadata": {
    "collapsed": true
   },
   "outputs": [],
   "source": [
    "#Write results\n",
    "result=pd.DataFrame(predicted, columns=label_cat.classes_)\n",
    "result.to_csv('testResult2.csv', index = True, index_label = 'Id' )"
   ]
  },
  {
   "cell_type": "code",
   "execution_count": null,
   "metadata": {
    "collapsed": true
   },
   "outputs": [],
   "source": []
  }
 ],
 "metadata": {
  "kernelspec": {
   "display_name": "Python 2",
   "language": "python",
   "name": "python2"
  },
  "language_info": {
   "codemirror_mode": {
    "name": "ipython",
    "version": 2
   },
   "file_extension": ".py",
   "mimetype": "text/x-python",
   "name": "python",
   "nbconvert_exporter": "python",
   "pygments_lexer": "ipython2",
   "version": "2.7.11"
  }
 },
 "nbformat": 4,
 "nbformat_minor": 0
}
